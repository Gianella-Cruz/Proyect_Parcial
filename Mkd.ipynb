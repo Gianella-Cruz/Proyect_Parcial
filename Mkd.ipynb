{
 "cells": [
  {
   "cell_type": "markdown",
   "id": "59c6cae3",
   "metadata": {},
   "source": [
    "### Crear un Archivo markdown\n"
   ]
  }
 ],
 "metadata": {
  "language_info": {
   "name": "python"
  }
 },
 "nbformat": 4,
 "nbformat_minor": 5
}
