{
 "cells": [
  {
   "cell_type": "markdown",
   "id": "0abf7b6b",
   "metadata": {},
   "source": [
    "# Proyecto medio curso "
   ]
  },
  {
   "cell_type": "markdown",
   "id": "8ee55763",
   "metadata": {},
   "source": [
    "# Proyecto grupal: Librería de estadística en Python (POO)\n",
    "**Curso:** Lenguaje Y Programacíon II  \n",
    "**Integrantes del grupo:**  \n",
    "-Castillo Flores, Hellary Mayte      20240699  \n",
    "-Cruz Lozano, Gianella Alejandra     20240705  \n",
    "-Tineo Balcázar, Daniela Rosa        20231510  "
   ]
  }
 ],
 "metadata": {
  "language_info": {
   "name": "python"
  }
 },
 "nbformat": 4,
 "nbformat_minor": 5
}
