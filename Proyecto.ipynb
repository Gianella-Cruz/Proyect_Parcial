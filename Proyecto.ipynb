{
 "cells": [
  {
   "cell_type": "markdown",
   "id": "0abf7b6b",
   "metadata": {},
   "source": [
    "# Proyecto medio curso "
   ]
  },
  {
   "cell_type": "markdown",
   "id": "8ee55763",
   "metadata": {},
   "source": [
    "# Proyecto grupal: Librería de estadística en Python (POO)\n",
    "**Curso:** Lenguaje Y Programacíon II  \n",
    "**Integrantes del grupo:**  \n",
    "- Castillo Flores, Hellary Mayte      20240699  \n",
    "- Cruz Lozano, Gianella Alejandra     20240705  \n",
    "- Tineo Balcázar, Daniela Rosa        20231510  \n",
    "\n",
    "## Objetivo:  \n",
    "Desarrollar una librería en Python que pemita calcular **Estadísticas básicas** para:  \n",
    "- Datos **cuantittativos**  \n",
    "- Datos **cualitativos**  \n",
    "Aplicando los principios de **POO**:  \n",
    "- Herencia  \n",
    "- Polimorfismo  \n",
    "- Encapsulamiento  "
   ]
  },
  {
   "cell_type": "markdown",
   "id": "b33ac280",
   "metadata": {},
   "source": [
    "# Diseño de la librería\n",
    "\n",
    "| Clase | Rol | Tipo de datos |\n",
    "|--------|------|----------------|"
   ]
  }
 ],
 "metadata": {
  "language_info": {
   "name": "python"
  }
 },
 "nbformat": 4,
 "nbformat_minor": 5
}
