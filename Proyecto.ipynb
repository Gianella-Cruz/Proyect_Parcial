{
 "cells": [
  {
   "cell_type": "markdown",
   "id": "8ee55763",
   "metadata": {},
   "source": [
    "# Proyecto grupal: Librería de estadística en Python (POO)\n",
    "**Curso:** Lenguaje Y Programacíon II  \n",
    "**Integrantes del grupo:**  \n",
    "- Castillo Flores, Hellary Mayte      20240699  \n",
    "- Cruz Lozano, Gianella Alejandra     20240705  \n",
    "- Tineo Balcázar, Daniela Rosa        20231510  \n",
    "\n",
    "## Objetivo:  \n",
    "Desarrollar una librería en Python que pemita calcular **Estadísticas básicas** para:  \n",
    "- Datos **cuantittativos**  \n",
    "- Datos **cualitativos**  \n",
    "Aplicando los principios de **POO**:  \n",
    "- Herencia  \n",
    "- Polimorfismo  \n",
    "- Encapsulamiento  "
   ]
  },
  {
   "cell_type": "markdown",
   "id": "b33ac280",
   "metadata": {},
   "source": [
    "## Diseño de la librería\n",
    "\n",
    "| Clase | Rol | Tipo de datos |\n",
    "|--------|------|----------------|\n",
    "| `DaniBase` | Clase padre, contiene métodos comunes como `contar()` y `mostrar_datos()` | Todos |"
   ]
  },
  {
   "cell_type": "code",
   "execution_count": null,
   "id": "68de3019",
   "metadata": {},
   "outputs": [],
   "source": [
    "class DaniBase:\n",
    "    \"\"\"Clase base para todas las estadísticas.\"\"\"\n",
    "    \n",
    "    def __init__(self, datos):\n",
    "        self.datos = datos\n",
    "\n",
    "    def contar(self):\n",
    "        \"\"\"Devuelve la cantidad de elementos en los datos.\"\"\"\n",
    "        contador = 0\n",
    "        for _ in self.datos:\n",
    "            contador += 1\n",
    "        return contador\n",
    "\n",
    "    def mostrar_datos(self):\n",
    "        \"\"\"Muestra los datos almacenados.\"\"\"\n",
    "        return self.datos\n",
    "\n",
    "    def resumen(self):\n",
    "        \"\"\"Método genérico a redefinir por las subclases.\"\"\"\n",
    "        print(\"Este método debe ser redefinido en las clases hijas.\")\n"
   ]
  },
  {
   "cell_type": "markdown",
   "id": "6cc02b25",
   "metadata": {},
   "source": [
    "### Clase `DaniBase` \n",
    "\n",
    "Esta clase es la base del proyecto y contiene las operaciones  \n",
    "comunes que usan las demás clases.  \n",
    "\n",
    "Incluye:  \n",
    "-`contar()` → cuenta manualmente cuántos elementos hay.  \n",
    "-`mostrar_datos()` → devuelve la lista original de datos.  \n",
    "-`resumen()` → es un método genérico que las clases hijas redefinirán.  "
   ]
  }
 ],
 "metadata": {
  "kernelspec": {
   "display_name": "base",
   "language": "python",
   "name": "python3"
  },
  "language_info": {
   "name": "python",
   "version": "3.13.5"
  }
 },
 "nbformat": 4,
 "nbformat_minor": 5
}
