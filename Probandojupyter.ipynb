{
 "cells": [
  {
   "cell_type": "markdown",
   "id": "1a2aa626",
   "metadata": {},
   "source": [
    "# Probando hacerlo en Jupyter"
   ]
  }
 ],
 "metadata": {
  "language_info": {
   "name": "python"
  }
 },
 "nbformat": 4,
 "nbformat_minor": 5
}
